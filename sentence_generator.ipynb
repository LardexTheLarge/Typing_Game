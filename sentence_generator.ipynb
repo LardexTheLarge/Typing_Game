{
 "cells": [
  {
   "cell_type": "code",
   "execution_count": null,
   "id": "0e3f92ff",
   "metadata": {},
   "outputs": [],
   "source": [
    "import sys\n",
    "import os\n",
    "from datetime import datetime\n",
    "import warnings\n",
    "from pathlib import Path\n",
    "import json\n",
    "\n",
    "# Data manipulation libraries\n",
    "import pandas as pd\n",
    "import numpy as np\n",
    "\n",
    "# Deep learning framework\n",
    "import torch\n",
    "\n",
    "# NLP & Transformers\n",
    "import nltk  # Useful for tokenization or post-processing if needed\n",
    "from transformers import AutoTokenizer, AutoModelForCausalLM, pipeline  # Megatron GPT2-compatible"
   ]
  },
  {
   "cell_type": "code",
   "execution_count": null,
   "id": "7176cab7",
   "metadata": {},
   "outputs": [],
   "source": [
    "TOKENIZER_DIR = \"../artifacts/tokenizer\"\n",
    "GPT_MODEL_NAME = \"nvidia/megatron-gpt2-345m\"\n",
    "GPT_MODEL_DATAFABRIC_PATH = \"/home/jovyan/datafabric/Megatron_GPT2_345M/megatron_gpt_345m.nemo\"\n",
    "EMBEDDINGS_OUTPUT_PATH = \"../data/processed/\""
   ]
  },
  {
   "cell_type": "code",
   "execution_count": null,
   "id": "6c1d5d6b",
   "metadata": {},
   "outputs": [],
   "source": [
    "# Check whether the gpt model file exists\n",
    "is_gpt_model_available = Path(GPT_MODEL_DATAFABRIC_PATH).exists()\n",
    "\n",
    "# Log the configuration status of the GPT model\n",
    "if is_gpt_model_available:\n",
    "    print(\"GPT model is properly configured.\")\n",
    "else:\n",
    "    print(\n",
    "        \"GPT model is not properly configured. Please create and download the required assets \"\n",
    "        \"in your project on AI Studio.\"\n",
    "    )"
   ]
  },
  {
   "cell_type": "code",
   "execution_count": null,
   "id": "871d4672",
   "metadata": {},
   "outputs": [],
   "source": [
    "tokenizer = AutoTokenizer.from_pretrained(GPT_MODEL_DATAFABRIC_PATH)\n",
    "model = AutoModelForCausalLM.from_pretrained(GPT_MODEL_DATAFABRIC_PATH)\n",
    "\n",
    "# Set device to GPU if available, otherwise use CPU\n",
    "device = torch.device(\"cuda\" if torch.cuda.is_available() else \"cpu\")\n",
    "\n",
    "print(\"Loading BERT model\")\n",
    "\n",
    "# bert_model = BERTLMModel.restore_from(BERT_MODEL_DATAFABRIC_PATH, strict=False).to(device)\n",
    "generator = pipeline(\"text-generation\", model=model, tokenizer=tokenizer)\n"
   ]
  },
  {
   "cell_type": "code",
   "execution_count": null,
   "id": "9bcf2c34",
   "metadata": {},
   "outputs": [],
   "source": [
    "def generate_sentence(prompt=\"Generate a phrase\", max_length=25, temperature=0.9):\n",
    "    result = generator(prompt, max_length=max_length, temperature=temperature, num_return_sequences=1)\n",
    "    return result[0]['generated_text']\n"
   ]
  },
  {
   "cell_type": "code",
   "execution_count": null,
   "id": "8c524dd2",
   "metadata": {},
   "outputs": [],
   "source": [
    "# def generate_by_difficulty(level=\"easy\"):\n",
    "#     settings = {\n",
    "#         \"easy\": {\"max_length\": 20, \"temperature\": 0.7},\n",
    "#         \"medium\": {\"max_length\": 30, \"temperature\": 0.9},\n",
    "#         \"hard\": {\"max_length\": 50, \"temperature\": 1.0},\n",
    "#     }\n",
    "#     config = settings.get(level, settings[\"medium\"])\n",
    "#     return generate_sentence(prompt=\"Let's practice typing\", **config)"
   ]
  }
 ],
 "metadata": {
  "kernelspec": {
   "display_name": "base",
   "language": "python",
   "name": "python3"
  },
  "language_info": {
   "codemirror_mode": {
    "name": "ipython",
    "version": 3
   },
   "file_extension": ".py",
   "mimetype": "text/x-python",
   "name": "python",
   "nbconvert_exporter": "python",
   "pygments_lexer": "ipython3",
   "version": "3.11.5"
  }
 },
 "nbformat": 4,
 "nbformat_minor": 5
}
